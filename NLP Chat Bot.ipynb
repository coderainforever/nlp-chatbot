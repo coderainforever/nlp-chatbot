{
 "cells": [
  {
   "cell_type": "markdown",
   "metadata": {},
   "source": [
    "# Importing Libraries"
   ]
  },
  {
   "cell_type": "code",
   "execution_count": 1,
   "metadata": {},
   "outputs": [],
   "source": [
    "import numpy as np\n",
    "import nltk\n",
    "import string\n",
    "import random"
   ]
  },
  {
   "cell_type": "markdown",
   "metadata": {},
   "source": [
    "# Importing and reading the corpus"
   ]
  },
  {
   "cell_type": "code",
   "execution_count": 2,
   "metadata": {},
   "outputs": [
    {
     "name": "stderr",
     "output_type": "stream",
     "text": [
      "[nltk_data] Downloading package punkt to\n",
      "[nltk_data]     C:\\Users\\veena\\AppData\\Roaming\\nltk_data...\n",
      "[nltk_data]   Package punkt is already up-to-date!\n",
      "[nltk_data] Downloading package wordnet to\n",
      "[nltk_data]     C:\\Users\\veena\\AppData\\Roaming\\nltk_data...\n",
      "[nltk_data]   Package wordnet is already up-to-date!\n"
     ]
    }
   ],
   "source": [
    "f = open('corpus.txt', 'r', errors='ignore')\n",
    "raw_doc = f.read()\n",
    "raw_doc = raw_doc.lower() #Converts text to lowercase\n",
    "nltk.download('punkt') #using the Punkt tokenizer\n",
    "nltk.download('wordnet') #using the wordnet dictionary\n",
    "sent_tokens = nltk.sent_tokenize(raw_doc) #converts doc to list of sentences\n",
    "word_tokens = nltk.word_tokenize(raw_doc) #converts doc to list of words"
   ]
  },
  {
   "cell_type": "code",
   "execution_count": 3,
   "metadata": {},
   "outputs": [
    {
     "data": {
      "text/plain": [
       "[' tell me about the american civil war\\ndo you think the south was right?',\n",
       " 'do you know about the american civil war\\ni am very interested in the war between the states.']"
      ]
     },
     "execution_count": 3,
     "metadata": {},
     "output_type": "execute_result"
    }
   ],
   "source": [
    "sent_tokens[:2]"
   ]
  },
  {
   "cell_type": "code",
   "execution_count": 4,
   "metadata": {},
   "outputs": [
    {
     "data": {
      "text/plain": [
       "['tell', 'me']"
      ]
     },
     "execution_count": 4,
     "metadata": {},
     "output_type": "execute_result"
    }
   ],
   "source": [
    "word_tokens[:2]"
   ]
  },
  {
   "cell_type": "markdown",
   "metadata": {},
   "source": [
    "# Text Preprocessing"
   ]
  },
  {
   "cell_type": "code",
   "execution_count": 5,
   "metadata": {},
   "outputs": [],
   "source": [
    "lemmer = nltk.stem.WordNetLemmatizer() #WordNet is a semantically oriented dictionary of English included in NLTK\n",
    "def LemTokens(tokens):\n",
    "    return[lemmer.lemmatize(token) for token in tokens]\n",
    "remove_punct_dict = dict((ord(punct), None) for punct in string.punctuation)\n",
    "def LemNormalize(text):\n",
    "    return LemTokens(nltk.word_tokenize(text.lower().translate(remove_punct_dict)))"
   ]
  },
  {
   "cell_type": "markdown",
   "metadata": {},
   "source": [
    "# Defining the greeting function"
   ]
  },
  {
   "cell_type": "code",
   "execution_count": 6,
   "metadata": {},
   "outputs": [],
   "source": [
    "GREET_INPUTS = (\"hello\", \"hi\", \"greetings\", \"whatsup\", \"hey\", \"hey there\", \"what's up\", \"hello there\" )\n",
    "GREET_RESPONSES = (\"hi\", \"hey\", \"*nods*\", \"hi there\", \"Hello! I'm glad you are talking to me\", \"hello!\", \"Hi, I'm glad you noticed me\")\n",
    "def greet(sentence):\n",
    "    for word in sentence.split():\n",
    "        if word.lower() in GREET_INPUTS:\n",
    "            return random.choice(GREET_RESPONSES)"
   ]
  },
  {
   "cell_type": "markdown",
   "metadata": {},
   "source": [
    "# Response Generation"
   ]
  },
  {
   "cell_type": "code",
   "execution_count": 7,
   "metadata": {},
   "outputs": [],
   "source": [
    "from sklearn.feature_extraction.text import TfidfVectorizer\n",
    "from sklearn.metrics.pairwise import cosine_similarity"
   ]
  },
  {
   "cell_type": "code",
   "execution_count": 8,
   "metadata": {},
   "outputs": [],
   "source": [
    "def response(user_response):\n",
    "    robo1_response = ''\n",
    "    TfidfVec = TfidfVectorizer(tokenizer = LemNormalize, stop_words = 'english')\n",
    "    tfidf = TfidfVec.fit_transform(sent_tokens)\n",
    "    val = cosine_similarity(tfidf[-1], tfidf)\n",
    "    idx = val.argsort()[0][-2]\n",
    "    flat = val.flatten()\n",
    "    flat.sort()\n",
    "    req_tfidf = flat[-2]\n",
    "    if (req_tfidf == 0):\n",
    "        robo1_response = robo1_response+\"I am sorry! I don't understand you\"\n",
    "        return robo1_response\n",
    "    else:\n",
    "        robo1_response = robo1_response + sent_tokens[idx]\n",
    "        return robo1_response"
   ]
  },
  {
   "cell_type": "code",
   "execution_count": null,
   "metadata": {},
   "outputs": [
    {
     "name": "stdout",
     "output_type": "stream",
     "text": [
      "Bot: My name is Akime. Let's have a conversation! Also, if you want to exit any time, just type Bye!\n",
      "User: hi\n",
      "Akime: hi there\n",
      "User: i am bored\n",
      "Akime: "
     ]
    },
    {
     "name": "stderr",
     "output_type": "stream",
     "text": [
      "C:\\Users\\veena\\anaconda3\\lib\\site-packages\\sklearn\\feature_extraction\\text.py:383: UserWarning: Your stop_words may be inconsistent with your preprocessing. Tokenizing the stop words generated tokens ['ha', 'le', 'u', 'wa'] not in stop_words.\n",
      "  warnings.warn('Your stop_words may be inconsistent with '\n"
     ]
    },
    {
     "name": "stdout",
     "output_type": "stream",
     "text": [
      "do you ever get bored\n",
      "are you bored?\n",
      "User: yesi am\n",
      "Akime: I am sorry! I don't understand you\n",
      "User: yes\n",
      "Akime: yes it is.\n",
      "User: what is it?\n",
      "Akime: I am sorry! I don't understand you\n",
      "User: tell me a joke\n",
      "Akime: tell me a joke\n",
      "o'm a not a comedy why don't you check out a joke?\n"
     ]
    }
   ],
   "source": [
    "# Defining Conversation Start/End Protocols\n",
    "\n",
    "flag = True\n",
    "print(\"Bot: My name is Akime. Let's have a conversation! Also, if you want to exit any time, just type Bye!\")\n",
    "while(flag==True): \n",
    "    user_response = input(\"User: \")\n",
    "    user_reponse = user_response.lower()\n",
    "    if (user_response!='bye'):\n",
    "        if(user_response == 'thanks' or user_response == 'thank you'): \n",
    "            flag = False\n",
    "            print(\"Akime: You are welcome...\")\n",
    "        else:\n",
    "                if(greet(user_response)!=None):\n",
    "                    print(\"Akime: \"+ greet(user_response))\n",
    "                else:\n",
    "                    sent_tokens.append(user_response)\n",
    "                    word_tokens=word_tokens+nltk.word_tokenize(user_response)\n",
    "                    final_words=list(set(word_tokens))\n",
    "                    print(\"Akime: \", end=\"\")\n",
    "                    print(response(user_response))\n",
    "                    sent_tokens.remove(user_response)\n",
    "    else:\n",
    "            flag = False\n",
    "            print(\"Akime: Goodbye! Take care <3\")"
   ]
  }
 ],
 "metadata": {
  "kernelspec": {
   "display_name": "Python 3",
   "language": "python",
   "name": "python3"
  },
  "language_info": {
   "codemirror_mode": {
    "name": "ipython",
    "version": 3
   },
   "file_extension": ".py",
   "mimetype": "text/x-python",
   "name": "python",
   "nbconvert_exporter": "python",
   "pygments_lexer": "ipython3",
   "version": "3.8.5"
  }
 },
 "nbformat": 4,
 "nbformat_minor": 4
}
